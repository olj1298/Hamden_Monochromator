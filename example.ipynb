{
 "cells": [
  {
   "cell_type": "markdown",
   "metadata": {},
   "source": [
    "Welcome to Scan Controller Command 101\n",
    "Class is now in session"
   ]
  },
  {
   "cell_type": "code",
   "execution_count": 1,
   "metadata": {},
   "outputs": [],
   "source": [
    "#import library\n",
    "import codecs\n",
    "import time\n",
    "import serial\n",
    "import pandas as pd\n",
    "import numpy as np\n",
    "import pyvisa as visa\n",
    "import datetime\n",
    "import os\n",
    "import sys\n",
    "import monochromatorapi as mcapi\n",
    "import shutterapi as shapi\n",
    "import picoapi as pico\n",
    "import pixisapi as pix"
   ]
  },
  {
   "cell_type": "markdown",
   "metadata": {},
   "source": [
    "Go To From Home\n",
    "Moving from home wavelength of 631.26nm to another wavlength\n",
    "no exposure times yet"
   ]
  },
  {
   "cell_type": "code",
   "execution_count": 2,
   "metadata": {},
   "outputs": [],
   "source": [
    "MCport = 'COM4' #serial port for Scan Controller\n",
    "single = 700 #nm , wavelength desired to move after homing\n",
    "#includes\n",
    "mcapi.go_to_fromhome(MCport,single)"
   ]
  },
  {
   "cell_type": "code",
   "execution_count": 2,
   "metadata": {},
   "outputs": [],
   "source": [
    "#go to from home with wait\n",
    "start_wl = 200 \n",
    "end_wl= 700\n",
    "step_wl=10\n",
    "wl_list=np.arange(start_wl,end_wl+step_wl,step_wl)\n",
    "\n",
    "\n",
    "for idx,wl in enumerate(wl_list):\n",
    "   \n",
    "    if idx==0:\n",
    "        start=wl_list[idx]\n",
    "        mcapi.go_to_fromhome(MCport,start)\n",
    "        time.sleep(3)\n",
    "        input(\"Press any key continue\")\n",
    "    else: \n",
    "        from_wl = wl_list[idx-1]\n",
    "        to_wl=wl_list[idx]\n",
    "        mcapi.go_to_from(MCport,from_wl,to_wl)\n",
    "        time.sleep(3)\n",
    "        input(\"Press any key continue\")\n"
   ]
  },
  {
   "cell_type": "code",
   "execution_count": null,
   "metadata": {},
   "outputs": [],
   "source": [
    "#go to from home with taking data\n"
   ]
  }
 ],
 "metadata": {
  "kernelspec": {
   "display_name": "Python 3.8.5 ('base')",
   "language": "python",
   "name": "python3"
  },
  "language_info": {
   "codemirror_mode": {
    "name": "ipython",
    "version": 3
   },
   "file_extension": ".py",
   "mimetype": "text/x-python",
   "name": "python",
   "nbconvert_exporter": "python",
   "pygments_lexer": "ipython3",
   "version": "3.8.5"
  },
  "orig_nbformat": 4,
  "vscode": {
   "interpreter": {
    "hash": "f08154012ddadd8e950e6e9e035c7a7b32c136e7647e9b7c77e02eb723a8bedb"
   }
  }
 },
 "nbformat": 4,
 "nbformat_minor": 2
}

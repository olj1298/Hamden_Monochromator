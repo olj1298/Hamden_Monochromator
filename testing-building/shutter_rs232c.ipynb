{
 "cells": [
  {
   "cell_type": "code",
   "execution_count": 35,
   "metadata": {},
   "outputs": [],
   "source": [
    "import codecs\n",
    "import time\n",
    "import serial\n",
    "import pandas as pd\n",
    "import numpy as np"
   ]
  },
  {
   "cell_type": "code",
   "execution_count": 36,
   "metadata": {},
   "outputs": [],
   "source": [
    "def shutopen(shutport):\n",
    "    \"\"\"\n",
    "    Tests if VCM D1 shutter controller serial parameters are correct and if port is closed or open. Opens shutter if connection is working properly. \n",
    "    Inputs:\n",
    "        :port(Literal): Serial port connection\n",
    "    Returns:\n",
    "        ::Shutter open message\n",
    "        ::error message due to improper connection\n",
    "    \"\"\"\n",
    "    try:\n",
    "        #serial communication settings. port variable may be changed depending on computer connected, but other settings must stay the same\n",
    "        ser = serial.Serial(port=shutport, \n",
    "                            baudrate = 9600, \n",
    "                            timeout = None,\n",
    "                            xonxoff = True,\n",
    "                            parity = serial.PARITY_NONE,\n",
    "                            stopbits = serial.STOPBITS_ONE,\n",
    "                            bytesize = serial.EIGHTBITS,\n",
    "                            )\n",
    "        ser.close()\n",
    "        ser.open()\n",
    "        ser.write(b'@'); #pressing enter on keyboard\n",
    "        # ser.read_until(size=None) #reads out feedback from scan controller until no data is left\n",
    "        msg = f\"Shutter opened\"\n",
    "        print(msg)\n",
    "        return\n",
    "    except Exception as ex:\n",
    "        msg = f\"Error, could not establish communication, check serial connection Error: {ex}\"\n",
    "        print(msg)\n",
    "\n",
    "def shutclose(shutport):\n",
    "    \"\"\"\n",
    "    Tests if VCM D1 shutter controller serial parameters are correct and if port is closed or open. Closes shutter if connection is working properly\n",
    "    Inputs:\n",
    "        :port(Literal): Serial port connection\n",
    "    Returns:\n",
    "        ::Shutter close message\n",
    "        ::error message due to improper connection\n",
    "    \"\"\"\n",
    "    try:\n",
    "        #serial communication settings. port variable may be changed depending on computer connected, but other settings must stay the same\n",
    "        ser = serial.Serial(port=shutport, \n",
    "                            baudrate = 9600, \n",
    "                            timeout = None,\n",
    "                            xonxoff = True,\n",
    "                            parity = serial.PARITY_NONE,\n",
    "                            stopbits = serial.STOPBITS_ONE,\n",
    "                            bytesize = serial.EIGHTBITS,\n",
    "                            )\n",
    "        ser.close()\n",
    "        ser.open()\n",
    "        ser.write(b'A'); #pressing enter on keyboard\n",
    "        # ser.read_until(size=None) #reads out feedback from scan controller until no data is left\n",
    "        msg = f\"Shutter closed\"\n",
    "        print(msg)\n",
    "        return\n",
    "    except Exception as ex:\n",
    "        msg = f\"Error, could not establish communication, check serial connection Error: {ex}\"\n",
    "        print(msg)        "
   ]
  },
  {
   "cell_type": "code",
   "execution_count": 38,
   "metadata": {},
   "outputs": [
    {
     "name": "stdout",
     "output_type": "stream",
     "text": [
      "Shutter closed\n"
     ]
    }
   ],
   "source": [
    "shutclose('COM3')"
   ]
  }
 ],
 "metadata": {
  "interpreter": {
   "hash": "8fac594bfae6525c0c41b4041d2d72effa188cc8ead05f81b1fab2bb098927fb"
  },
  "kernelspec": {
   "display_name": "Python 3.8.5 ('base')",
   "language": "python",
   "name": "python3"
  },
  "language_info": {
   "codemirror_mode": {
    "name": "ipython",
    "version": 3
   },
   "file_extension": ".py",
   "mimetype": "text/x-python",
   "name": "python",
   "nbconvert_exporter": "python",
   "pygments_lexer": "ipython3",
   "version": "3.8.5"
  },
  "orig_nbformat": 4
 },
 "nbformat": 4,
 "nbformat_minor": 2
}

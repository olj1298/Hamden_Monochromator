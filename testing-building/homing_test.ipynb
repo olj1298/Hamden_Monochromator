{
 "metadata": {
  "language_info": {
   "codemirror_mode": {
    "name": "ipython",
    "version": 3
   },
   "file_extension": ".py",
   "mimetype": "text/x-python",
   "name": "python",
   "nbconvert_exporter": "python",
   "pygments_lexer": "ipython3",
   "version": "3.8.8"
  },
  "orig_nbformat": 4,
  "kernelspec": {
   "name": "python3",
   "display_name": "Python 3.8.8 64-bit ('base': conda)"
  },
  "interpreter": {
   "hash": "febdf2ba8a2bfe86e16d882a707cb447647aaa5902ae24425ea8934c7f34d21e"
  }
 },
 "nbformat": 4,
 "nbformat_minor": 2,
 "cells": [
  {
   "cell_type": "code",
   "execution_count": 1,
   "metadata": {},
   "outputs": [],
   "source": [
    "import serial\n",
    "import codecs\n",
    "import os\n",
    "import sys\n",
    "import time\n",
    "from datetime import datetime,timedelta\n",
    "import tkinter\n",
    "import numpy as np"
   ]
  },
  {
   "cell_type": "code",
   "execution_count": null,
   "metadata": {},
   "outputs": [],
   "source": [
    "def connect():\n",
    "    ser = serial.Serial('COM4', \n",
    "                        baudrate = 9600, \n",
    "                        timeout = None,\n",
    "                        xonxoff = True,\n",
    "                        parity = serial.PARITY_NONE,\n",
    "                        stopbits = serial.STOPBITS_ONE,\n",
    "                        bytesize = serial.EIGHTBITS,\n",
    "                        )\n",
    "    ser.close()"
   ]
  },
  {
   "cell_type": "code",
   "execution_count": null,
   "metadata": {},
   "outputs": [],
   "source": [
    "connect()"
   ]
  },
  {
   "cell_type": "code",
   "execution_count": 3,
   "metadata": {},
   "outputs": [],
   "source": [
    "def check_status(wait_time=0.8):\n",
    "    time.sleep(wait_time)\n",
    "    ser.open()\n",
    "    ser.write(b'] \\r'); #check limit status\n",
    "    s = ser.read_until(size=None)\n",
    "    ser.close()\n",
    "    stat_now = codecs.decode(s) #selects only the return command from monochromator \n",
    "    stat_now = int(str(stat2[4:])) #should slice output to only be the interger, instead of ]   0 as previous\n",
    "    print(\"limit status two is: \", stat_now)\n",
    "    return stat_now"
   ]
  },
  {
   "cell_type": "code",
   "execution_count": null,
   "metadata": {},
   "outputs": [],
   "source": [
    "def home():\n",
    "    connect()\n",
    "    #initialize connection of program and monochromator\n",
    "    ser.open()                            \n",
    "    ser.write(b' \\r'); \n",
    "    s = ser.read_until(size=None) \n",
    "    ser.close()\n",
    "    print(\"communication initialized\")\n",
    "\n",
    "    #enable home circuit to configure to home wavelength\n",
    "    ser.open()\n",
    "    ser.write(b'A8 \\r'); \n",
    "    s=ser.read_until(size=None)\n",
    "    ser.close()\n",
    "    print(\"home circuit enabled\")\n",
    "\n",
    "    check_status() #function for checking limit status of monochromator\n",
    "\n",
    "    if stat_now == 0: #if status reads above home wavelength of 631.26nm (0=above)\n",
    "        #move at constant vel. of 23KHz decreasing wavelength\n",
    "        ser.open()\n",
    "        ser.write(b'm-23000 \\r'); \n",
    "        s=ser.read_until(size=None)\n",
    "        ser.close() \n",
    "        print(\"decreasing wavelength at a rate of 23KHz\")\n",
    "        \n",
    "        while stat < 32: #<32 is for when status is either 2 or 0. 2 is when moving at constant velocity, 0 is                              above home wavelength. 32 is below home wavelength.\n",
    "            check_status()\n",
    "\n",
    "            if stat_now >= 32: #>= accounts for if monochromator scanned past home wavelength\n",
    "                ser.open()\n",
    "                ser.write(b'@ \\r'); #soft stop\n",
    "                s = ser.read_until(size=None)\n",
    "                ser.close()\n",
    "                print(\"scan controller stoped\")\n",
    "                break #gets out of status check and stopping loop\n",
    "\n",
    "            timesleep(2)\n",
    "            ser.open()\n",
    "            ser.write(b'-108000 \\r'); #turns motor for 3 rev. \n",
    "            s = ser.read_until(size=None)\n",
    "            ser.close()\n",
    "            print(\"decreasing wavelength for 3 revolutions\")\n",
    "\n",
    "            timesleep(1)\n",
    "            ser.open()\n",
    "            ser.write(b'+72000 \\r'); #turns motor for 2 rev. removes backlash\n",
    "            s = ser.read_until(size=None)\n",
    "            ser.close()\n",
    "            print(\"increasing wavelength for 2 revolutions\")\n",
    "                \n",
    "            ser.open()\n",
    "            ser.write(b'A24 \\r'); #enable high accuracy circuit for fine movement\n",
    "            s = ser.read_until(size=None)\n",
    "            ser.close()\n",
    "            print(\"high accuracy circuit enabled\")\n",
    " \n",
    "            ser.open()\n",
    "            ser.write(b'F1000,0 \\r'); #find edge of home flag at 1000 steps/sec\n",
    "            s = ser.read_until(size=None)\n",
    "            ser.close()\n",
    "            print(\"finding edge of home flag at 1000KHz\")\n",
    "\n",
    "            timesleep(10)\n",
    "            ser.open()\n",
    "            ser.write(b'@ \\r'); #soft stop\n",
    "            s = ser.read_until(size=None)\n",
    "            ser.close()\n",
    "            print(\"scan controller stopped\")\n",
    "\n",
    "            ser.open()\n",
    "            ser.write(b'A0 \\r'); #disables home circuit\n",
    "            s = ser.read_until(size=None)\n",
    "            ser.close()\n",
    "            print(\"disabled home circuit\")\n",
    "\n",
    "            ser.open()\n",
    "            ser.write(b'P \\r'); #exit program\n",
    "            s = ser.read_until(size=None)\n",
    "            ser.close()\n",
    "            print(\"exited program \")\n",
    "            exit\n"
   ]
  },
  {
   "cell_type": "code",
   "execution_count": null,
   "metadata": {},
   "outputs": [],
   "source": [
    "home()"
   ]
  }
 ]
}
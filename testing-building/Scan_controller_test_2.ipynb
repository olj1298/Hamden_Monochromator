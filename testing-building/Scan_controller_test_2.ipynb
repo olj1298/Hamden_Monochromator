{
 "metadata": {
  "language_info": {
   "codemirror_mode": {
    "name": "ipython",
    "version": 3
   },
   "file_extension": ".py",
   "mimetype": "text/x-python",
   "name": "python",
   "nbconvert_exporter": "python",
   "pygments_lexer": "ipython3",
   "version": "3.8.8"
  },
  "orig_nbformat": 2,
  "kernelspec": {
   "name": "python3",
   "display_name": "Python 3.8.8 64-bit ('base': conda)"
  },
  "metadata": {
   "interpreter": {
    "hash": "57baa5815c940fdaff4d14510622de9616cae602444507ba5d0b6727c008cbd6"
   }
  },
  "interpreter": {
   "hash": "febdf2ba8a2bfe86e16d882a707cb447647aaa5902ae24425ea8934c7f34d21e"
  }
 },
 "nbformat": 4,
 "nbformat_minor": 2,
 "cells": [
  {
   "cell_type": "code",
   "execution_count": 1,
   "metadata": {},
   "outputs": [],
   "source": [
    "import serial\n",
    "import codecs\n",
    "import os\n",
    "import sys\n",
    "import time\n",
    "from datetime import datetime,timedelta\n",
    "ser = serial.Serial('COM4', \n",
    "                    baudrate = 9600, \n",
    "                    timeout = None,\n",
    "                    xonxoff = True,\n",
    "                    parity = serial.PARITY_NONE,\n",
    "                    stopbits = serial.STOPBITS_ONE,\n",
    "                    bytesize = serial.EIGHTBITS,\n",
    "                    )"
   ]
  },
  {
   "cell_type": "code",
   "execution_count": 3,
   "metadata": {},
   "outputs": [
    {
     "output_type": "stream",
     "name": "stdout",
     "text": [
      " v2.55\n\n"
     ]
    }
   ],
   "source": [
    "\n",
    "\n",
    "ser.write(b' \\r'); #must begin by spacebar to initialize\n",
    "\n",
    "s = ser.read_until(size=None) #reads the data coming from the serial until there is no data left\n",
    "#print(s)\n",
    "r = codecs.decode(s) #this selects the information that we want to see\n",
    "print(r)\n",
    "\n",
    "ser.close()"
   ]
  },
  {
   "cell_type": "code",
   "execution_count": 4,
   "metadata": {},
   "outputs": [
    {
     "output_type": "stream",
     "name": "stdout",
     "text": [
      "X K= 50 I= 1000 V= 61440 A\n\n"
     ]
    }
   ],
   "source": [
    "ser.open()\n",
    "\n",
    "ser.write(b'X \\r'); #X=K(ramp speed),I(starting velocity),V(scanning velocity)\n",
    "\n",
    "s = ser.read_until(size=None) #reads the data coming from the serial until there is no data left\n",
    "#print(s)\n",
    "t = codecs.decode(s) #this selects the information that we want to see\n",
    "print(t)\n",
    "\n",
    "ser.close()"
   ]
  },
  {
   "cell_type": "code",
   "execution_count": 5,
   "metadata": {},
   "outputs": [
    {
     "output_type": "stream",
     "name": "stdout",
     "text": [
      "]    0 \n\n"
     ]
    }
   ],
   "source": [
    "ser.open()\n",
    "\n",
    "ser.write(b'] \\r'); #read limit switch status 0=no limit, 32=home limit, 64=high limit, 128=low limit\n",
    "s=ser.read_until(size=None)\n",
    "u = codecs.decode(s)\n",
    "print(u)\n",
    "\n",
    "ser.close()"
   ]
  },
  {
   "cell_type": "code",
   "execution_count": 55,
   "metadata": {},
   "outputs": [
    {
     "output_type": "stream",
     "name": "stdout",
     "text": [
      "^    0 \n\n"
     ]
    }
   ],
   "source": [
    "ser.open()\n",
    "\n",
    "ser.write(b'^ \\r'); #read moving status 0=no motion, 1=moving, 2=High const. vel., 16=slewing ramping complete\n",
    "s=ser.read_until(size=None)\n",
    "v = codecs.decode(s)\n",
    "print(v)\n",
    "\n",
    "ser.close()"
   ]
  },
  {
   "cell_type": "code",
   "execution_count": null,
   "metadata": {},
   "outputs": [],
   "source": [
    "ser.open()\n",
    "\n",
    "ser.write(b'K \\r'); #ramp slope if K<127 accel. and deccel. have same slope. range 0 to 255\n",
    "s=ser.read_until(size=None)\n",
    "w = codecs.decode(s)\n",
    "print(w)\n",
    "\n",
    "ser.close()"
   ]
  },
  {
   "source": [
    "ser.open()\n",
    "\n",
    "ser.write(b'I \\r'); #starting velocity, start and stop speed of scan\n",
    "s=ser.read_until(size=None)\n",
    "x = codecs.decode(s)\n",
    "print(x)\n",
    "\n",
    "ser.close()"
   ],
   "cell_type": "code",
   "metadata": {},
   "execution_count": null,
   "outputs": []
  },
  {
   "cell_type": "code",
   "execution_count": null,
   "metadata": {},
   "outputs": [],
   "source": [
    "ser.open()\n",
    "\n",
    "ser.write(b'V \\r'); #scanning velocity, range is 36 steps per sec to 60000 sps\n",
    "s=ser.read_until(size=None)\n",
    "y = codecs.decode(s)\n",
    "print(y)\n",
    "\n",
    "ser.close()"
   ]
  },
  {
   "cell_type": "code",
   "execution_count": null,
   "metadata": {},
   "outputs": [],
   "source": [
    "ser.open()\n",
    "\n",
    "ser.write(b'A8 \\r'); #enable home circuit\n",
    "s=ser.read_until(size=None)\n",
    "z= codecs.decode(s)\n",
    "print(z)\n",
    "\n",
    "ser.close()"
   ]
  },
  {
   "cell_type": "code",
   "execution_count": null,
   "metadata": {},
   "outputs": [],
   "source": [
    "ser.open()\n",
    "\n",
    "ser.write(b'] \\r'); #check limit status\n",
    "s=ser.read_until(size=None)\n",
    "a= codecs.decode(s)\n",
    "print(a)\n",
    "\n",
    "ser.close()\n",
    "\n",
    "#if a == 0:\n",
    "    #ser.open()\n",
    "\n",
    "    #ser.write(b'm-23000 \\r'); #move at constant vel. 23KHz decreasing wavelength\n",
    "    #while a < 32:\n",
    "        #ser.write(b'] \\r'); #check limit status\n",
    "        #s = ser.read_until(size=None)\n",
    "        #b = codecs.decode(s)\n",
    "        #print(b)\n",
    "\n",
    "        #ser.close()\n",
    "        #if b >= 32:\n",
    "\n",
    "           #ser.write(b'@ \\r'); #soft stop\n",
    "           #s = ser.read_until(size=None)\n",
    "           #c = codecs.decode(s)\n",
    "           #print(c)\n",
    "\n",
    "           #ser.close() \n",
    "#else:\n",
    "    #ser.open()\n",
    "\n",
    "    #ser.write(b'm+23000 \\r') #move at constant vel. 23KHz increasing wavelength\n",
    "    #s = ser.read_until(size=None)\n",
    "    #d = codecs.decode(s)\n",
    "    #print(d)\n",
    "\n",
    "    #ser.close()\n",
    "    #if d = 0:\n",
    "\n",
    "        #ser.open()\n",
    "        #ser.write(b'@ \\r'); #soft stop\n",
    "        #s = ser.read_until(size=None)\n",
    "        #e = codecs.decode(s)\n",
    "        #print(e)\n",
    "        #ser.close()"
   ]
  },
  {
   "cell_type": "code",
   "execution_count": null,
   "metadata": {},
   "outputs": [],
   "source": [
    "ser.open()\n",
    "\n",
    "ser.write(b'A0 \\r'); #Disable Home Circuit\n",
    "s=ser.read_until(size=None)\n",
    "e = codecs.decode(s)\n",
    "\n",
    "print(e)\n",
    "\n",
    "ser.close()"
   ]
  },
  {
   "cell_type": "code",
   "execution_count": null,
   "metadata": {},
   "outputs": [],
   "source": [
    "ser.open()\n",
    "\n",
    "ser.write(b'^C \\r'); #Reset; stops motion, sets counter to 0 assumes idle state\n",
    "s=ser.read_until(size=None)\n",
    "f= codecs.decode(s)\n",
    "\n",
    "print(f)\n",
    "ser.close()"
   ]
  },
  {
   "cell_type": "code",
   "execution_count": null,
   "metadata": {},
   "outputs": [],
   "source": [
    "ser.open()\n",
    "\n",
    "ser.write(b'A24 \\r'); #home accuracy circut enabled\n",
    "s=ser.read_until(size=None)\n",
    "g=codecs.decode(s)\n",
    "print(g)\n",
    "ser.close"
   ]
  },
  {
   "cell_type": "code",
   "execution_count": null,
   "metadata": {},
   "outputs": [],
   "source": [
    "ser.open()\n",
    "#ser.write(b'C1 \\r'); #clear; erases pre-programmed parameters. only use when unexplainable scanning error has occured\n",
    "#s=ser.read_until(size=None)\n",
    "ser.close()"
   ]
  },
  {
   "cell_type": "code",
   "execution_count": null,
   "metadata": {},
   "outputs": [],
   "source": [
    "ser.open()\n",
    "ser.write(b'F4500,0 \\r'); #find edge. home swtich must be blocked. motor moves upward 4500steps/sec\n",
    "s=ser.read_until(size=None)\n",
    "h=codecs.decode(s)\n",
    "print(h)\n",
    "ser.close\n",
    "ser.open()\n",
    "ser.write(b'@ \\r'); #soft stop\n",
    "s=ser.read_until(size=None)\n",
    "ser.close()"
   ]
  },
  {
   "cell_type": "code",
   "execution_count": null,
   "metadata": {},
   "outputs": [],
   "source": [
    "ser.open()\n",
    "s=ser.write(b'G \\r'); #exectue program stored in non-volatile memory by entering G and then program's starting address\n",
    "s=ser.read_until(size=None)\n",
    "ser.close()"
   ]
  },
  {
   "cell_type": "code",
   "execution_count": null,
   "metadata": {},
   "outputs": [],
   "source": [
    "ser.open()\n",
    "#s=ser.write(b'P \\r'); #enter and exit profram mode. P0 thru P1000 sets scanner in internal program mode\n",
    "s=ser.read_until(size=None)\n",
    "ser.close()"
   ]
  },
  {
   "cell_type": "code",
   "execution_count": null,
   "metadata": {},
   "outputs": [],
   "source": [
    "ser.open()\n",
    "ser.write(b'S \\r'); #store parameters to non-volitile memory\n",
    "ser.read_until(size=None)\n",
    "ser.close()"
   ]
  },
  {
   "cell_type": "code",
   "execution_count": null,
   "metadata": {},
   "outputs": [],
   "source": [
    "ser.open()\n",
    "ser.open(b'W \\r'); #wait n milliseconds n= 0 to 65535\n",
    "ser.read_until(size=None)\n",
    "ser.close()"
   ]
  }
 ]
}
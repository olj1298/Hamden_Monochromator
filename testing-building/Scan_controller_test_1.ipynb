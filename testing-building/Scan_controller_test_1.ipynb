{
 "metadata": {
  "language_info": {
   "codemirror_mode": {
    "name": "ipython",
    "version": 3
   },
   "file_extension": ".py",
   "mimetype": "text/x-python",
   "name": "python",
   "nbconvert_exporter": "python",
   "pygments_lexer": "ipython3",
   "version": "3.8.8"
  },
  "orig_nbformat": 2,
  "kernelspec": {
   "name": "python388jvsc74a57bd0febdf2ba8a2bfe86e16d882a707cb447647aaa5902ae24425ea8934c7f34d21e",
   "display_name": "Python 3.8.8 64-bit ('base': conda)"
  },
  "metadata": {
   "interpreter": {
    "hash": "57baa5815c940fdaff4d14510622de9616cae602444507ba5d0b6727c008cbd6"
   }
  }
 },
 "nbformat": 4,
 "nbformat_minor": 2,
 "cells": [
  {
   "cell_type": "code",
   "execution_count": 6,
   "metadata": {},
   "outputs": [],
   "source": [
    "import signal\n",
    "import codecs\n",
    "import serial\n",
    "import os\n",
    "import sys\n",
    "import time\n",
    "from datetime import datetime,timedelta\n",
    "import numpy as np"
   ]
  },
  {
   "cell_type": "code",
   "execution_count": 7,
   "metadata": {},
   "outputs": [
    {
     "output_type": "stream",
     "name": "stdout",
     "text": [
      "b''\n\n"
     ]
    }
   ],
   "source": [
    "# ser = serial.Serial('COM4', 9600)\n",
    "# if not ser.isOpen():\n",
    "#     ser.open()\n",
    "# print('com4 is open', ser.isOpen())\n",
    "\n",
    "# a=0\n",
    "# while a<20: \n",
    "try: \n",
    "    ser = serial.Serial('COM4', \n",
    "                        baudrate = 9600, \n",
    "                        timeout = 0,\n",
    "                        xonxoff = True,\n",
    "                        parity = serial.PARITY_NONE,\n",
    "                        stopbits = serial.STOPBITS_ONE,\n",
    "                        bytesize = serial.EIGHTBITS,\n",
    "                        ) \n",
    "    cmd1 = ' \\r'\n",
    "    ser.write(cmd1.encode('ascii'))\n",
    "    cmd2 = 'X\\r'\n",
    "    ser.write(cmd2.encode('ascii'))\n",
    "    s = ser.read_until(size=None) #reads the data coming from the serial until there is no data left\n",
    "    print(s)\n",
    "    s = codecs.decode(s) #this selects the information that we want to see\n",
    "    print(s)\n",
    "    # out = ser.read()\n",
    "    # print('Receiving...'+out)\n",
    "\n",
    "    # vari = ser.write(b'X\\r\\n') #X=K(ramp speed),I(starting velocity),V(scanning velocity)\n",
    "    #vari = ser.write(b'X\\r\\n');\n",
    "    #X in hex = 58 ,binary=01011000, decimal=88\n",
    "    #print(vari)\n",
    "    #s = ser.read_until(size=None) #reads the data coming from the serial\n",
    "    #print(s)\n",
    "    #s = codecs.decode(s) #this selects the information that we want to see\n",
    "    #print(s)\n",
    "    # a = a+1 \n",
    "    # print(a)\n",
    "finally: \n",
    "     ser.close() \n"
   ]
  },
  {
   "cell_type": "code",
   "execution_count": 13,
   "metadata": {},
   "outputs": [],
   "source": [
    "    import serial\n",
    "    import codecs\n",
    "    ser = serial.Serial('COM4', \n",
    "                        baudrate = 9600, \n",
    "                        timeout = None,\n",
    "                        xonxoff = True,\n",
    "                        parity = serial.PARITY_NONE,\n",
    "                        stopbits = serial.STOPBITS_ONE,\n",
    "                        bytesize = serial.EIGHTBITS,\n",
    "                        ) "
   ]
  },
  {
   "cell_type": "code",
   "execution_count": 14,
   "metadata": {},
   "outputs": [
    {
     "output_type": "stream",
     "name": "stdout",
     "text": [
      " #\n\n"
     ]
    }
   ],
   "source": [
    "\n",
    "    # cmd1 = ' \\r'\n",
    "    ser.write(b' \\r');\n",
    "    # cmd2 = 'X\\r'\n",
    "    # ser.write(cmd2.encode('ascii'))\n",
    "    s = ser.read_until(size=None) #reads the data coming from the serial until there is no data left\n",
    "    #print(s)\n",
    "    s = codecs.decode(s) #this selects the information that we want to see\n",
    "    print(s)"
   ]
  },
  {
   "cell_type": "code",
   "execution_count": 15,
   "metadata": {},
   "outputs": [
    {
     "output_type": "stream",
     "name": "stdout",
     "text": [
      "b']   0 \\r\\n'\n]   0 \n\n"
     ]
    }
   ],
   "source": [
    "    cmd1 = ']\\r'\n",
    "    ser.write(cmd1.encode('ascii'));\n",
    "    # cmd2 = 'X\\r'\n",
    "    # ser.write(cmd2.encode('ascii'))\n",
    "    s = ser.read_until(size=None) #reads the data coming from the serial until there is no data left\n",
    "    print(s)\n",
    "    s = codecs.decode(s) #this selects the information that we want to see\n",
    "    print(s)"
   ]
  },
  {
   "cell_type": "code",
   "execution_count": 16,
   "metadata": {},
   "outputs": [
    {
     "output_type": "stream",
     "name": "stdout",
     "text": [
      "XK= 50 I= 1000 V= 61440 A\n\n"
     ]
    }
   ],
   "source": [
    "ser.write(b'X\\r');\n",
    "s = ser.read_until(size=None) #reads the data coming from the serial until there is no data left\n",
    "#print(s)\n",
    "t = codecs.decode(s) #this selects the information that we want to see\n",
    "print(t)"
   ]
  },
  {
   "cell_type": "code",
   "execution_count": 17,
   "metadata": {},
   "outputs": [],
   "source": [
    "ser.close()"
   ]
  },
  {
   "cell_type": "code",
   "execution_count": null,
   "metadata": {},
   "outputs": [],
   "source": []
  }
 ]
}
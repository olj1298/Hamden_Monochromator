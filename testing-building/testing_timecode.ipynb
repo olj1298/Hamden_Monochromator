{
 "metadata": {
  "language_info": {
   "codemirror_mode": {
    "name": "ipython",
    "version": 3
   },
   "file_extension": ".py",
   "mimetype": "text/x-python",
   "name": "python",
   "nbconvert_exporter": "python",
   "pygments_lexer": "ipython3",
   "version": "3.8.8"
  },
  "orig_nbformat": 4,
  "kernelspec": {
   "name": "python3",
   "display_name": "Python 3.8.8 64-bit ('base': conda)"
  },
  "interpreter": {
   "hash": "febdf2ba8a2bfe86e16d882a707cb447647aaa5902ae24425ea8934c7f34d21e"
  }
 },
 "nbformat": 4,
 "nbformat_minor": 2,
 "cells": [
  {
   "cell_type": "code",
   "execution_count": 1,
   "metadata": {},
   "outputs": [],
   "source": [
    "import time \n",
    "import numpy as np\n",
    "import serial\n",
    "import codecs"
   ]
  },
  {
   "cell_type": "code",
   "execution_count": null,
   "metadata": {},
   "outputs": [],
   "source": [
    "i = 0\n",
    "status = i + 1\n",
    "while i == 0:\n",
    "    status + 1\n",
    "    \n"
   ]
  },
  {
   "cell_type": "code",
   "execution_count": 3,
   "metadata": {},
   "outputs": [
    {
     "output_type": "error",
     "ename": "SyntaxError",
     "evalue": "invalid syntax (<ipython-input-3-51aa85f52335>, line 21)",
     "traceback": [
      "\u001b[1;36m  File \u001b[1;32m\"<ipython-input-3-51aa85f52335>\"\u001b[1;36m, line \u001b[1;32m21\u001b[0m\n\u001b[1;33m    if status = 0:\u001b[0m\n\u001b[1;37m              ^\u001b[0m\n\u001b[1;31mSyntaxError\u001b[0m\u001b[1;31m:\u001b[0m invalid syntax\n"
     ]
    }
   ],
   "source": [
    "ser = serial.Serial('COM4', \n",
    "                            baudrate = 9600, \n",
    "                            timeout = None,\n",
    "                            xonxoff = True,\n",
    "                            parity = serial.PARITY_NONE,\n",
    "                            stopbits = serial.STOPBITS_ONE,\n",
    "                            bytesize = serial.EIGHTBITS,\n",
    "                            )\n",
    "ser.close()\n",
    "\n",
    "# Intial status check \n",
    "ser.open()\n",
    "ser.write(b'] \\r'); \n",
    "s = ser.read_until(size=None)\n",
    "ser.close()\n",
    "status = codecs.decode(s)\n",
    "status = int(str(status[4:])) #why are you doing this. \n",
    "print(\"limit status is:\", status) #Intian status print \n",
    "\n",
    "if status == 0: \n",
    "    #move down command here\n",
    "    ser.open()\n",
    "    ser.write(b'm-23000 \\r'); \n",
    "    s=ser.read_until(size=None)\n",
    "    ser.close() \n",
    "    print(\"decreasing wavelength at a rate of 23KHz\") \n",
    "    #call a function that checks status and return the newstatus after the status has changed\n",
    "    #The above function can also issue the stopcommand  \n",
    "    ser.open()\n",
    "    ser.write(b'@ \\r'); \n",
    "    ser.close()\n",
    "    print(\"scan controller stopped\")\n",
    "    break\n",
    "elif status == 32: \n",
    "    #move up command here\n",
    "    ser.open()\n",
    "    ser.write(b'm+23000 \\r'); \n",
    "    s=ser.read_until(size=None)\n",
    "    ser.close() \n",
    "    print(\"increasing wavelength at a rate of 23KHz\")\n",
    "    #call a function that checks status and return 1 after the status has changed.  \n",
    "    ser.open()\n",
    "    ser.write(b'@ \\r'); \n",
    "    ser.close()\n",
    "    print(\"scan controller stopped\")\n",
    "    break\n",
    "else: \n",
    "    print(\"Houston we have a problem\")\n",
    "    break"
   ]
  },
  {
   "cell_type": "code",
   "execution_count": null,
   "metadata": {},
   "outputs": [],
   "source": [
    "#checking what the status is and moving according to status\n",
    "while status == 0: \n",
    "    time.sleep(0.8)\n",
    "    #status check beyond this point\n",
    "    ser.open()\n",
    "    ser.write(b'] \\r'); \n",
    "    s = ser.read_until(size=None)\n",
    "    ser.close()\n",
    "    status = codecs.decode(s)\n",
    "    status = int(str(status[4:]))\n",
    "    print(\"limit status is:\", status)\n",
    "\n",
    "    if status >= 32: \n",
    "        timesleep(0.8)\n",
    "        ser.open()\n",
    "        ser.write(b'] \\r'); \n",
    "        s = ser.read_until(size=None)\n",
    "        ser.close()\n",
    "        status = codecs.decode(s)\n",
    "        status = int(str(status[4:]))\n",
    "        print(\"limit status is:\", status)\n",
    "        print(\"status has now changed. So I am stopping\")\n",
    "        print(i)\n",
    "\n",
    "        ser.open()\n",
    "        ser.write(b'@ \\r')\n",
    "        ser.close()\n",
    "        print(\"scan controller stopped\")\n",
    "        if status <= 0:\n",
    "            exit\n",
    "    else:\n",
    "        status = 0\n",
    "        timesleep(0.8)\n",
    "        ser.open()\n",
    "        ser.write(b'] \\r'); \n",
    "        s = ser.read_until(size=None)\n",
    "        ser.close()\n",
    "        status = codecs.decode(s)\n",
    "        status = int(str(status[4:]))\n",
    "        print(\"limit status is:\", status)\n",
    "        print(\"status has not changed so I am continuing\")\n",
    "        i = i+1\n",
    "        #status condition beyond this point \n",
    "        if status >= 32:\n",
    "            exit   \n",
    "    if status == 2:\n",
    "        exit\n",
    "ser.open()\n",
    "ser.write(b'@ \\r'); \n",
    "ser.close()"
   ]
  },
  {
   "cell_type": "code",
   "execution_count": 11,
   "metadata": {},
   "outputs": [
    {
     "output_type": "stream",
     "name": "stdout",
     "text": [
      "Houston we have a problem\n"
     ]
    }
   ],
   "source": [
    "status = 1\n",
    "i = 0\n",
    "if status == 0: \n",
    "    #move up command here \n",
    "    print(\"Moving up\")\n",
    "    #call a function that checks status and return the newstatus after the status has changed\n",
    "    # The above function can also issue the stopcommand \n",
    "    exit\n",
    "elif status == 32: \n",
    "    #move down command here\n",
    "    print(\"Move down\")\n",
    "    #call a function that checks status and return 1 after the status has changed.  \n",
    "    \n",
    "else: \n",
    "    print(\"Houston we have a problem\")\n",
    "    exit"
   ]
  }
 ]
}
{
 "metadata": {
  "language_info": {
   "codemirror_mode": {
    "name": "ipython",
    "version": 3
   },
   "file_extension": ".py",
   "mimetype": "text/x-python",
   "name": "python",
   "nbconvert_exporter": "python",
   "pygments_lexer": "ipython3",
   "version": "3.8.8"
  },
  "orig_nbformat": 4,
  "kernelspec": {
   "name": "python3",
   "display_name": "Python 3.8.8 64-bit ('base': conda)"
  },
  "interpreter": {
   "hash": "febdf2ba8a2bfe86e16d882a707cb447647aaa5902ae24425ea8934c7f34d21e"
  }
 },
 "nbformat": 4,
 "nbformat_minor": 2,
 "cells": [
  {
   "cell_type": "code",
   "execution_count": 20,
   "metadata": {},
   "outputs": [],
   "source": [
    "from tkinter import *\n",
    "import tkinter as tk\n",
    "import icecream as ic\n",
    "import numpy as np"
   ]
  },
  {
   "cell_type": "code",
   "execution_count": 17,
   "metadata": {},
   "outputs": [
    {
     "output_type": "stream",
     "name": "stdout",
     "text": [
      "10000000000.00\n"
     ]
    }
   ],
   "source": [
    "from tkinter import *\n",
    "  \n",
    "root = Tk()\n",
    "root.geometry(\"300x300\")\n",
    "root.title(\"Scanning movement\")\n",
    "  \n",
    "def Take_input():\n",
    "    INPUT = inputtxt.get(\"1.0\", \"end-1c\")\n",
    "    print(INPUT)\n",
    "    if(INPUT > \"999.9\"):\n",
    "        Output.insert(END, 'Enter a number lower than 999.9 \\r')\n",
    "    else:\n",
    "        Output.insert(END, \"Scanning to wavelength \\r\")\n",
    "      \n",
    "l = Label(text = \"Scanning Movement\")\n",
    "inputtxt = Text(root, height = 10,\n",
    "                width = 25,\n",
    "                bg = \"light yellow\")\n",
    "  \n",
    "Output = Text(root, height = 5, \n",
    "              width = 25, \n",
    "              bg = \"light cyan\")\n",
    "  \n",
    "Display = Button(root, height = 2,\n",
    "                 width = 20, \n",
    "                 text =\"Show\",\n",
    "                 command = lambda:Take_input())\n",
    "  \n",
    "l.pack()\n",
    "inputtxt.pack()\n",
    "Display.pack()\n",
    "Output.pack()\n",
    "  \n",
    "mainloop()"
   ]
  },
  {
   "cell_type": "code",
   "execution_count": 23,
   "metadata": {},
   "outputs": [
    {
     "output_type": "stream",
     "name": "stdout",
     "text": [
      "homing monochromator\n"
     ]
    }
   ],
   "source": [
    "#make a window\n",
    "window = tk.Tk() #creates window\n",
    "window.title(\"My first GUI\") #title of window\n",
    "window.geometry(\"600x400\") #size of window\n",
    "label_home = tk.Label(text =\"Home:\",font=\"arial\") #creates a label\n",
    "label_home.grid(column=0,row=0)#places label in top left of window\n",
    "label_userenter = tk.Label(text =\"Enter Wavelength\",font='arial')\n",
    "label_userenter.grid(column=0,row=1) \n",
    "def home(event):\n",
    "    print(\"homing monochromator\")\n",
    "homebutton = tk.Button(window, text = \"Homing\",bg=\"yellow\")#creates button, within window that has text\n",
    "homebutton.grid(column=1,row=0)#places button\n",
    "homebutton.bind(\"<Button-1>\",home)#event funct doorbell, which takes an event as the argument and prints whenever it receives the argument.\n",
    "#in bind,the first parameter <Button-1> is When you left-click the button with the mouse, then the event occurs. The second parameter is the name of the event function.\n",
    "userenter = tk.Entry(window,width=25)\n",
    "userenter.grid(column=1,row=1)\n",
    "window.mainloop() #have to call before running any tkinter method   "
   ]
  },
  {
   "cell_type": "code",
   "execution_count": null,
   "metadata": {},
   "outputs": [],
   "source": [
    "tk.Entry(parent,width=25) #get inputs\n",
    "tk.Checkbutton(parent,text=\"Remember me\",variable=tk.IntVar())#check conditions and terms\n",
    "tk.OptionMenu(parent,tk.IntVar(),\"Age\",\"15+\",\"25+\",\"40+\")#select option from drop down menu\n",
    "tk.Scrollbar(parent,orient=tk.VERTICAL)#scroll the app\n",
    "tk.Radiobutton(parent,text=\"Male\",variable=tk.IntVar(),value=5)#provides many options but only one can be chosen\n",
    "tk.Text(parent,height=20,width=10)#text and print on the GUI\n",
    "tk.Menu\n",
    "tk.Menubutton\n",
    "tk.OptionMenu\n",
    "tk.Canvas\n",
    "tk.Checkbutton\n",
    "tk.Spinbox"
   ]
  },
  {
   "cell_type": "code",
   "execution_count": 6,
   "metadata": {},
   "outputs": [],
   "source": [
    "# Declare global variables\n",
    "temp_c = None\n",
    "temp_f = None\n",
    "# This function is called whenever the button is pressed\n",
    "def convert():\n",
    "    global temp_c\n",
    "    global temp_f\n",
    "    # Convert Celsius to Fahrenheit and update label (through textvariable)\n",
    "    try:\n",
    "        val = temp_c.get()\n",
    "        temp_f.set((val * 9.0 / 5) + 32)\n",
    "    except:\n",
    "        pass\n",
    "# Create the main window\n",
    "root = tk.Tk()\n",
    "root.title(\"Temperature Converter\")\n",
    "# Create the main container\n",
    "frame = tk.Frame(root)\n",
    "# Lay out the main container, specify that we want it to grow with window size\n",
    "frame.pack(fill=tk.BOTH, expand=True)\n",
    "# Allow middle cell of grid to grow when window is resized\n",
    "frame.columnconfigure(1, weight=1)\n",
    "frame.rowconfigure(1, weight=1)\n",
    "# Variables for holding temperature data\n",
    "temp_c = tk.DoubleVar()\n",
    "temp_f = tk.DoubleVar()\n",
    "# Create widgets\n",
    "entry_celsius = tk.Entry(frame, width=7, textvariable=temp_c)\n",
    "label_unitc = tk.Label(frame, text=\"°C\")\n",
    "label_equal = tk.Label(frame, text=\"is equal to\")\n",
    "label_fahrenheit = tk.Label(frame, textvariable=temp_f)\n",
    "label_unitf = tk.Label(frame, text=\"°F\")\n",
    "button_convert = tk.Button(frame, text=\"Convert\", command=convert)\n",
    "# Lay out widgets\n",
    "entry_celsius.grid(row=0, column=1, padx=5, pady=5)\n",
    "label_unitc.grid(row=0, column=2, padx=5, pady=5, sticky=tk.W)\n",
    "label_equal.grid(row=1, column=0, padx=5, pady=5, sticky=tk.E)\n",
    "label_fahrenheit.grid(row=1, column=1, padx=5, pady=5)\n",
    "label_unitf.grid(row=1, column=2, padx=5, pady=5, sticky=tk.W)\n",
    "button_convert.grid(row=2, column=1, columnspan=2, padx=5, pady=5, sticky=tk.E)\n",
    "# Place cursor in entry box by default\n",
    "entry_celsius.focus()\n",
    "# Run forever!\n",
    "root.mainloop()"
   ]
  },
  {
   "cell_type": "code",
   "execution_count": null,
   "metadata": {},
   "outputs": [],
   "source": [
    "#to make file into .exe, enter pyinstaller -F -w file_name.ipynb into the cmd prompt\n",
    "#to add icon, pyinstaller -F -w -i  icon_name.ico  file_name.py"
   ]
  }
 ]
}